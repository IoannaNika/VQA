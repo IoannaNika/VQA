{
 "cells": [
  {
   "cell_type": "code",
   "execution_count": 20,
   "metadata": {},
   "outputs": [],
   "source": [
    "import os\n",
    "import pandas as pd\n",
    "import numpy as np"
   ]
  },
  {
   "cell_type": "markdown",
   "metadata": {},
   "source": [
    "# Alignment for amplicon reads"
   ]
  },
  {
   "cell_type": "code",
   "execution_count": null,
   "metadata": {},
   "outputs": [],
   "source": [
    "os.system(\"minimap2 -ax map-hifi data/data/SARS-CoV-2-NC_045513.fa data/data/real_data/trimmed_09_0.fastq > aln.sam\")\n",
    "os.system(\"samtools view -@ n -Sb -o aln.bam aln.sam\")\n",
    "os.system(\"samtools sort -@ n -o aln.sorted.bam aln.bam\")\n",
    "os.system(\"samtools index aln.sorted.bam\")"
   ]
  },
  {
   "cell_type": "markdown",
   "metadata": {},
   "source": [
    "#  ONT reads"
   ]
  },
  {
   "cell_type": "code",
   "execution_count": null,
   "metadata": {},
   "outputs": [],
   "source": [
    "os.system(\"minimap2 -ax map-ont data/data/SARS-CoV-2-NC_045513.fa data/data/hcov_global_2023-11-16_09-28/split_fasta/A/simulated_reads/EPI_ISL_408480/EPI_ISL_408480_0001.fastq > aln_ont.sam\")\n",
    "os.system(\"samtools view -@ n -Sb -o aln_ont.bam aln_ont.sam\")\n",
    "os.system(\"samtools sort -@ n -o aln_ont.sorted.bam aln_ont.bam\")\n",
    "os.system(\"samtools index aln_ont.sorted.bam\")"
   ]
  },
  {
   "cell_type": "markdown",
   "metadata": {},
   "source": [
    "Identify reads from the same genome that overlap"
   ]
  },
  {
   "cell_type": "code",
   "execution_count": 13,
   "metadata": {},
   "outputs": [
    {
     "name": "stdout",
     "output_type": "stream",
     "text": [
      "dict_keys(['EPI_ISL_4084801_37', 'EPI_ISL_4084801_11', 'EPI_ISL_4084801_35', 'EPI_ISL_4084801_44', 'EPI_ISL_4084801_55', 'EPI_ISL_4084801_57', 'EPI_ISL_4084801_32', 'EPI_ISL_4084801_38', 'EPI_ISL_4084801_70', 'EPI_ISL_4084801_36', 'EPI_ISL_4084801_72', 'EPI_ISL_4084801_49', 'EPI_ISL_4084801_15', 'EPI_ISL_4084801_4', 'EPI_ISL_4084801_68', 'EPI_ISL_4084801_42', 'EPI_ISL_4084801_51', 'EPI_ISL_4084801_10', 'EPI_ISL_4084801_56', 'EPI_ISL_4084801_33', 'EPI_ISL_4084801_3', 'EPI_ISL_4084801_41', 'EPI_ISL_4084801_6', 'EPI_ISL_4084801_5', 'EPI_ISL_4084801_14', 'EPI_ISL_4084801_21', 'EPI_ISL_4084801_25', 'EPI_ISL_4084801_19', 'EPI_ISL_4084801_23', 'EPI_ISL_4084801_8', 'EPI_ISL_4084801_2', 'EPI_ISL_4084801_50', 'EPI_ISL_4084801_20', 'EPI_ISL_4084801_34', 'EPI_ISL_4084801_39', 'EPI_ISL_4084801_53', 'EPI_ISL_4084801_47', 'EPI_ISL_4084801_26', 'EPI_ISL_4084801_30', 'EPI_ISL_4084801_9', 'EPI_ISL_4084801_13', 'EPI_ISL_4084801_27', 'EPI_ISL_4084801_58', 'EPI_ISL_4084801_45', 'EPI_ISL_4084801_7', 'EPI_ISL_4084801_52', 'EPI_ISL_4084801_40', 'EPI_ISL_4084801_67', 'EPI_ISL_4084801_22', 'EPI_ISL_4084801_16', 'EPI_ISL_4084801_71', 'EPI_ISL_4084801_46', 'EPI_ISL_4084801_65', 'EPI_ISL_4084801_31', 'EPI_ISL_4084801_17', 'EPI_ISL_4084801_1', 'EPI_ISL_4084801_48', 'EPI_ISL_4084801_12', 'EPI_ISL_4084801_43', 'EPI_ISL_4084801_18', 'EPI_ISL_4084801_54', 'EPI_ISL_4084801_28', 'EPI_ISL_4084801_69', 'EPI_ISL_4084801_24', 'EPI_ISL_4084801_60', 'EPI_ISL_4084801_64', 'EPI_ISL_4084801_61', 'EPI_ISL_4084801_63', 'EPI_ISL_4084801_73', 'EPI_ISL_4084801_59', 'EPI_ISL_4084801_29', 'EPI_ISL_4084801_62'])\n",
      "{'EPI_ISL_4084801_55', 'EPI_ISL_4084801_26', 'EPI_ISL_4084801_37', 'EPI_ISL_4084801_30', 'EPI_ISL_4084801_6', 'EPI_ISL_4084801_44', 'EPI_ISL_4084801_57', 'EPI_ISL_4084801_34', 'EPI_ISL_4084801_2', 'EPI_ISL_4084801_9', 'EPI_ISL_4084801_8', 'EPI_ISL_4084801_20', 'EPI_ISL_4084801_13', 'EPI_ISL_4084801_3', 'EPI_ISL_4084801_68', 'EPI_ISL_4084801_32', 'EPI_ISL_4084801_41', 'EPI_ISL_4084801_39', 'EPI_ISL_4084801_14', 'EPI_ISL_4084801_33', 'EPI_ISL_4084801_25', 'EPI_ISL_4084801_38', 'EPI_ISL_4084801_19', 'EPI_ISL_4084801_49', 'EPI_ISL_4084801_4', 'EPI_ISL_4084801_47', 'EPI_ISL_4084801_5', 'EPI_ISL_4084801_70', 'EPI_ISL_4084801_53', 'EPI_ISL_4084801_50', 'EPI_ISL_4084801_51', 'EPI_ISL_4084801_15', 'EPI_ISL_4084801_72', 'EPI_ISL_4084801_21', 'EPI_ISL_4084801_42'}\n"
     ]
    }
   ],
   "source": [
    "# group reads that overlap given a bam file\n",
    "os.system(\"bedtools bamtobed -i aln_ont.bam > aln_ont.bed\")\n",
    "os.system(\"bedtools sort -i aln_ont.bed > aln_ont_sorted.bed\")\n",
    "\n",
    "# read in the bed file\n",
    "bed = pd.read_csv(\"aln_ont_sorted.bed\", sep=\"\\t\", header=None)\n",
    "bed.columns = [\"ref\", \"start\", \"end\", \"read_name\", \"score\", \"strand\"]\n",
    "\n",
    "\n",
    "# create a dictionary of read names and the reads they overlap with\n",
    "read_dict = {}\n",
    "\n",
    "for i in range(len(bed)):\n",
    "    for j in range(len(bed)):\n",
    "        if bed.iloc[i, 3] != bed.iloc[j, 3]:\n",
    "            # start_i < end_j  and end_i > start_j\n",
    "            if bed.iloc[i, 1] < bed.iloc[j, 2] and bed.iloc[i, 2] > bed.iloc[j, 1]:\n",
    "                if bed.iloc[i, 3] in read_dict:\n",
    "                    read_dict[bed.iloc[i, 3]].add(bed.iloc[j, 3])\n",
    "                else:\n",
    "                    read_dict[bed.iloc[i, 3]] = {bed.iloc[j, 3]}\n",
    "\n",
    "\n",
    "\n",
    "print(read_dict.keys())\n",
    "print(read_dict[\"EPI_ISL_4084801_23\"])\n"
   ]
  },
  {
   "cell_type": "markdown",
   "metadata": {},
   "source": [
    "Identify the reads from different genomes that overlap with each other"
   ]
  },
  {
   "cell_type": "code",
   "execution_count": 19,
   "metadata": {},
   "outputs": [
    {
     "name": "stdout",
     "output_type": "stream",
     "text": [
      "{'EPI_ISL_4084801_55', 'EPI_ISL_4084801_26', 'EPI_ISL_4084801_37', 'EPI_ISL_4084801_30', 'EPI_ISL_4084801_6', 'EPI_ISL_4084801_44', 'EPI_ISL_4084801_57', 'EPI_ISL_4084801_34', 'EPI_ISL_4084801_2', 'EPI_ISL_4084801_9', 'EPI_ISL_4084801_8', 'EPI_ISL_4084801_20', 'EPI_ISL_4084801_13', 'EPI_ISL_4084801_3', 'EPI_ISL_4084801_68', 'EPI_ISL_4084801_32', 'EPI_ISL_4084801_41', 'EPI_ISL_4084801_39', 'EPI_ISL_4084801_14', 'EPI_ISL_4084801_33', 'EPI_ISL_4084801_25', 'EPI_ISL_4084801_38', 'EPI_ISL_4084801_19', 'EPI_ISL_4084801_49', 'EPI_ISL_4084801_4', 'EPI_ISL_4084801_47', 'EPI_ISL_4084801_5', 'EPI_ISL_4084801_70', 'EPI_ISL_4084801_53', 'EPI_ISL_4084801_23', 'EPI_ISL_4084801_50', 'EPI_ISL_4084801_51', 'EPI_ISL_4084801_15', 'EPI_ISL_4084801_72', 'EPI_ISL_4084801_21', 'EPI_ISL_4084801_42'}\n"
     ]
    }
   ],
   "source": [
    "bed_file_1 = pd.read_csv(\"aln_ont_sorted.bed\", sep=\"\\t\", header=None)\n",
    "bed_file_2 = pd.read_csv(\"aln_ont_sorted.bed\", sep=\"\\t\", header=None)\n",
    "\n",
    "bed_file_1.columns = [\"ref\", \"start\", \"end\", \"read_name\", \"score\", \"strand\"]\n",
    "bed_file_2.columns = [\"ref\", \"start\", \"end\", \"read_name\", \"score\", \"strand\"]\n",
    "\n",
    "# create a dictionary of read names and the reads they overlap with\n",
    "\n",
    "read_dict = {}\n",
    "\n",
    "for i in range(len(bed_file_1)):\n",
    "    for j in range(len(bed_file_2)):\n",
    "            # start_i < end_j  and end_i > start_j\n",
    "            if bed_file_1.iloc[i, 1] < bed_file_2.iloc[j, 2] and bed_file_1.iloc[i, 2] > bed_file_2.iloc[j, 1]:\n",
    "                if bed_file_1.iloc[i, 3] in read_dict:\n",
    "                    read_dict[bed_file_1.iloc[i, 3]].add(bed_file_2.iloc[j, 3])\n",
    "                else:\n",
    "                    read_dict[bed_file_1.iloc[i, 3]] = {bed_file_2.iloc[j, 3]}\n",
    "\n",
    "# print(read_dict.keys())\n",
    "print(read_dict[\"EPI_ISL_4084801_23\"])\n",
    "\n",
    "\n"
   ]
  }
 ],
 "metadata": {
  "kernelspec": {
   "display_name": ".venv",
   "language": "python",
   "name": "python3"
  },
  "language_info": {
   "codemirror_mode": {
    "name": "ipython",
    "version": 3
   },
   "file_extension": ".py",
   "mimetype": "text/x-python",
   "name": "python",
   "nbconvert_exporter": "python",
   "pygments_lexer": "ipython3",
   "version": "3.9.6"
  }
 },
 "nbformat": 4,
 "nbformat_minor": 2
}
