{
 "cells": [
  {
   "cell_type": "code",
   "execution_count": 1,
   "metadata": {},
   "outputs": [],
   "source": [
    "import os\n",
    "import pandas as pd\n",
    "import numpy as np\n",
    "import matplotlib.pyplot as plt\n",
    "import seaborn as sns\n",
    "from Bio import SeqIO"
   ]
  },
  {
   "cell_type": "markdown",
   "metadata": {},
   "source": [
    "# Amplicon reads"
   ]
  },
  {
   "cell_type": "code",
   "execution_count": 2,
   "metadata": {},
   "outputs": [
    {
     "name": "stderr",
     "output_type": "stream",
     "text": [
      "[M::mm_idx_gen::0.549*0.74] collected minimizers\n",
      "[M::mm_idx_gen::0.683*1.12] sorted minimizers\n",
      "[M::main::0.683*1.12] loaded/built the index for 12151 target sequence(s)\n",
      "[M::mm_mapopt_update::0.685*1.12] mid_occ = 1832\n",
      "[M::mm_idx_stat] kmer size: 19; skip: 5; is_hpc: 1; #seq: 12151\n",
      "[M::mm_idx_stat::0.685*1.12] distinct minimizers: 27769 (69.06% are singletons); average occurrences: 113.889; average spacing: 4.193; total length: 13259317\n",
      "[M::worker_pipeline::928.268*2.77] mapped 40148 sequences\n",
      "[M::main] Version: 2.26-r1175\n",
      "[M::main] CMD: minimap2 -x ava-pb data/data/real_data/trimmed_08_0.fastq data/data/real_data/trimmed_01_100.fastq\n",
      "[M::main] Real time: 928.286 sec; CPU: 2568.614 sec; Peak RSS: 1.308 GB\n"
     ]
    },
    {
     "data": {
      "text/plain": [
       "0"
      ]
     },
     "execution_count": 2,
     "metadata": {},
     "output_type": "execute_result"
    }
   ],
   "source": [
    "os.system(\"minimap2 -x ava-pb data/data/real_data/trimmed_08_0.fastq data/data/real_data/trimmed_01_100.fastq > overlaps.paf\") "
   ]
  },
  {
   "cell_type": "code",
   "execution_count": 12,
   "metadata": {},
   "outputs": [
    {
     "name": "stderr",
     "output_type": "stream",
     "text": [
      "[M::mm_idx_gen::0.002*6.63] collected minimizers\n",
      "[M::mm_idx_gen::0.003*4.78] sorted minimizers\n",
      "[M::main::0.003*4.75] loaded/built the index for 1 target sequence(s)\n",
      "[M::mm_mapopt_update::0.004*4.54] mid_occ = 50\n",
      "[M::mm_idx_stat] kmer size: 19; skip: 19; is_hpc: 0; #seq: 1\n",
      "[M::mm_idx_stat::0.004*4.38] distinct minimizers: 3001 (100.00% are singletons); average occurrences: 1.000; average spacing: 9.941; total length: 29833\n",
      "[M::worker_pipeline::6.657*2.44] mapped 40148 sequences\n",
      "[M::main] Version: 2.26-r1175\n",
      "[M::main] CMD: minimap2 -ax map-hifi data/data/SARS-CoV-2-NC_045513.fa data/data/real_data/trimmed_01_100.fastq\n",
      "[M::main] Real time: 6.659 sec; CPU: 16.262 sec; Peak RSS: 0.133 GB\n"
     ]
    },
    {
     "data": {
      "text/plain": [
       "0"
      ]
     },
     "execution_count": 12,
     "metadata": {},
     "output_type": "execute_result"
    }
   ],
   "source": [
    "os.system(\"minimap2 -ax map-hifi data/data/SARS-CoV-2-NC_045513.fa data/data/real_data/trimmed_01_100.fastq > aln.sam\")\n",
    "os.system(\"samtools view -@ n -Sb -o aln.bam aln.sam\")\n",
    "os.system(\"samtools sort -@ n -o aln.sorted.bam aln.bam\")\n",
    "os.system(\"samtools index aln.sorted.bam\")"
   ]
  },
  {
   "cell_type": "code",
   "execution_count": 13,
   "metadata": {},
   "outputs": [
    {
     "name": "stdout",
     "output_type": "stream",
     "text": [
      "count    40143.000000\n",
      "mean      1086.399846\n",
      "std         44.077131\n",
      "min        213.000000\n",
      "25%       1064.000000\n",
      "50%       1089.000000\n",
      "75%       1108.000000\n",
      "max       1203.000000\n",
      "Name: length, dtype: float64\n",
      "maximum read length:  1203\n"
     ]
    },
    {
     "data": {
      "image/png": "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",
      "text/plain": [
       "<Figure size 640x480 with 1 Axes>"
      ]
     },
     "metadata": {},
     "output_type": "display_data"
    }
   ],
   "source": [
    "# produce bed file for the amplicon reads\n",
    "os.system(\"bedtools bamtobed -i aln.sorted.bam > aln.sorted.bed\")\n",
    "\n",
    "# calculate the distribution of the read lengths\n",
    "df = pd.read_csv(\"aln.sorted.bed\", sep=\"\\t\", header=None)\n",
    "df[\"length\"] = df[2] - df[1]\n",
    "print(df[\"length\"].describe())\n",
    "\n",
    "# plot the distribution of the read lengths\n",
    "import matplotlib.pyplot as plt\n",
    "import seaborn as sns\n",
    "sns.set()\n",
    "plt.hist(df[\"length\"], bins=100)\n",
    "\n",
    "print(\"maximum read length: \", df[\"length\"].max())\n",
    "\n",
    "\n",
    "\n"
   ]
  },
  {
   "cell_type": "code",
   "execution_count": null,
   "metadata": {},
   "outputs": [],
   "source": [
    "# plot the distribution of the read lengths\n",
    "sns.set()\n",
    "plt.figure(figsize=(12, 6))\n",
    "sns.histplot(df[\"length\"], bins=100)\n",
    "\n",
    "sns.histplot(df[\"length\"], bins=100)\n",
    "# save the plot\n",
    "plt.savefig(\"amplicon_read_length_distribution.png\")"
   ]
  },
  {
   "cell_type": "markdown",
   "metadata": {},
   "source": [
    "#  ONT reads"
   ]
  },
  {
   "cell_type": "code",
   "execution_count": null,
   "metadata": {},
   "outputs": [],
   "source": [
    "os.system(\"minimap2 -ax map-ont data/data/SARS-CoV-2-NC_045513.fa data/data/hcov_global_2023-11-16_09-28/split_fasta/A/simulated_reads/EPI_ISL_408480/EPI_ISL_408480_0001.fastq > aln_ont.sam\")\n",
    "os.system(\"samtools view -@ n -Sb -o aln_ont.bam aln_ont.sam\")\n",
    "os.system(\"samtools sort -@ n -o aln_ont.sorted.bam aln_ont.bam\")\n",
    "os.system(\"samtools index aln_ont.sorted.bam\")"
   ]
  },
  {
   "cell_type": "markdown",
   "metadata": {},
   "source": [
    "Identify reads from the same genome that overlap"
   ]
  },
  {
   "cell_type": "code",
   "execution_count": null,
   "metadata": {},
   "outputs": [],
   "source": [
    "# group reads that overlap given a bam file\n",
    "os.system(\"bedtools bamtobed -i aln_ont.bam > aln_ont.bed\")\n",
    "os.system(\"bedtools sort -i aln_ont.bed > aln_ont.sorted.bed\")\n",
    "\n",
    "# read in the bed file\n",
    "bed = pd.read_csv(\"aln_ont.sorted.bed\", sep=\"\\t\", header=None)\n",
    "bed.columns = [\"ref\", \"start\", \"end\", \"read_name\", \"score\", \"strand\"]\n",
    "\n",
    "\n",
    "# create a dictionary of read names and the reads they overlap with\n",
    "read_dict = {}\n",
    "\n",
    "for i in range(len(bed)):\n",
    "    for j in range(len(bed)):\n",
    "        if bed.iloc[i, 3] != bed.iloc[j, 3]:\n",
    "            # start_i < end_j  and end_i > start_j\n",
    "            if bed.iloc[i, 1] < bed.iloc[j, 2] and bed.iloc[i, 2] > bed.iloc[j, 1]:\n",
    "                if bed.iloc[i, 3] in read_dict:\n",
    "                    read_dict[bed.iloc[i, 3]].add(bed.iloc[j, 3])\n",
    "                else:\n",
    "                    read_dict[bed.iloc[i, 3]] = {bed.iloc[j, 3]}\n",
    "\n",
    "\n",
    "\n",
    "print(read_dict.keys())\n",
    "print(read_dict[\"EPI_ISL_4084801_23\"])\n"
   ]
  },
  {
   "cell_type": "markdown",
   "metadata": {},
   "source": [
    "Identify the reads from different genomes that overlap with each other"
   ]
  },
  {
   "cell_type": "code",
   "execution_count": null,
   "metadata": {},
   "outputs": [],
   "source": [
    "bed_file_1 = pd.read_csv(\"aln_ont.sorted.bed\", sep=\"\\t\", header=None)\n",
    "bed_file_2 = pd.read_csv(\"aln_ont.sorted.bed\", sep=\"\\t\", header=None)\n",
    "\n",
    "bed_file_1.columns = [\"ref\", \"start\", \"end\", \"read_name\", \"score\", \"strand\"]\n",
    "bed_file_2.columns = [\"ref\", \"start\", \"end\", \"read_name\", \"score\", \"strand\"]\n",
    "\n",
    "# create a dictionary of read names and the reads they overlap with\n",
    "\n",
    "read_dict = {}\n",
    "\n",
    "for i in range(len(bed_file_1)):\n",
    "    for j in range(len(bed_file_2)):\n",
    "            # start_i < end_j  and end_i > start_j\n",
    "            if bed_file_1.iloc[i, 1] < bed_file_2.iloc[j, 2] and bed_file_1.iloc[i, 2] > bed_file_2.iloc[j, 1]:\n",
    "                if bed_file_1.iloc[i, 3] in read_dict:\n",
    "                    read_dict[bed_file_1.iloc[i, 3]].add(bed_file_2.iloc[j, 3])\n",
    "                else:\n",
    "                    read_dict[bed_file_1.iloc[i, 3]] = {bed_file_2.iloc[j, 3]}\n",
    "\n",
    "# print(read_dict.keys())\n",
    "print(read_dict[\"EPI_ISL_4084801_23\"])\n",
    "\n",
    "\n"
   ]
  },
  {
   "cell_type": "code",
   "execution_count": null,
   "metadata": {},
   "outputs": [],
   "source": [
    "# calculate the distribution of the read lengths for ont reads\n",
    "df = pd.read_csv(\"aln_ont.sorted.bed\", sep=\"\\t\", header=None)\n",
    "df[\"length\"] = df[2] - df[1]\n",
    "print(df[\"length\"].describe())\n",
    "\n",
    "# plot the distribution of the read lengths\n",
    "sns.set()\n",
    "plt.figure(figsize=(12, 6))\n",
    "sns.histplot(df[\"length\"], bins=100)\n",
    "# save the plot\n",
    "plt.savefig(\"ont_read_length_distribution.png\")"
   ]
  },
  {
   "cell_type": "markdown",
   "metadata": {},
   "source": [
    "# Next regions "
   ]
  },
  {
   "cell_type": "code",
   "execution_count": null,
   "metadata": {},
   "outputs": [],
   "source": [
    "metadata_nr = \"data/data/hcov_global_2023-11-16_09-28/metadata.tsv\"\n",
    "metadata = pd.read_csv(metadata_nr, sep=\"\\t\")\n",
    "\n",
    "pango_lineage = metadata[\"pango_lineage\"].value_counts()\n",
    "GISAID_clade = metadata[\"GISAID_clade\"].value_counts()\n",
    "\n",
    "# pie plot of the pango lineage\n",
    "plt.figure(figsize=(12, 6))\n",
    "plt.pie(pango_lineage, labels=pango_lineage.index, autopct='%1.1f%%')\n",
    "plt.title(\"Pango lineage\")\n",
    "plt.show()\n",
    "\n",
    "# pie plot of the GISAID clade\n",
    "plt.figure(figsize=(12, 6))\n",
    "plt.pie(GISAID_clade, labels=GISAID_clade.index, autopct='%1.1f%%')\n",
    "plt.title(\"GISAID clade\")\n",
    "plt.show()\n"
   ]
  },
  {
   "cell_type": "markdown",
   "metadata": {},
   "source": [
    "# Next regions dataset"
   ]
  },
  {
   "cell_type": "code",
   "execution_count": null,
   "metadata": {},
   "outputs": [],
   "source": [
    "# check if the the two metadata files contain any common strains\n",
    "metadata_nr_1 = \"data/data/hcov_global_2022-08-26_05-12/hcov_global.tsv\"\n",
    "metadata_nr_2 = \"data/data/hcov_global_2023-11-16_09-28/metadata.tsv\"\n",
    "\n",
    "metadata_1 = pd.read_csv(metadata_nr_1, sep=\"\\t\")\n",
    "metadata_2 = pd.read_csv(metadata_nr_2, sep=\"\\t\")\n",
    "\n",
    "# check if the the two metadata files contain any common strains\n",
    "print(set(metadata_1[\"strain\"]).intersection(set(metadata_2[\"strain\"])))\n",
    "print(len(set(metadata_1[\"strain\"]).intersection(set(metadata_2[\"strain\"]))))\n",
    "\n",
    "# remove the common strains from the 2022 metadata\n",
    "metadata_1 = metadata_1[~metadata_1[\"strain\"].isin(set(metadata_1[\"strain\"]).intersection(set(metadata_2[\"strain\"])))]\n",
    "# remove reads that their lineage is not contained in metadata_2\n",
    "metadata_1 = metadata_1[metadata_1[\"pango_lineage\"].isin(set(metadata_2[\"pango_lineage\"]))]\n",
    "metadata_1.to_csv(\"data/data/hcov_global_2022-08-26_05-12/metadata.tsv\", sep=\"\\t\", index=False)\n",
    "# parse the fasta file\n",
    "records = SeqIO.parse(\"data/data/hcov_global_2022-08-26_05-12/hcov_global.fasta\", \"fasta\")\n",
    "\n",
    "# clean contents of the sequences.fasta file\n",
    "open(\"data/data/hcov_global_2022-08-26_05-12/sequences.fasta\", \"w\").close()\n",
    "cnt = 0\n",
    "cnt2 = 0\n",
    "for record in records:\n",
    "    cnt2 += 1\n",
    "    if record.id in set(metadata_1[\"strain\"]):\n",
    "        with open(\"data/data/hcov_global_2022-08-26_05-12/sequences.fasta\", \"a\") as f:\n",
    "            f.write(\">\" + record.id + \"\\n\")\n",
    "            f.write(str(record.seq) + \"\\n\")    \n",
    "            cnt += 1\n",
    "   \n",
    "print(cnt, len(set(metadata_1[\"strain\"])),cnt2)\n",
    "\n"
   ]
  },
  {
   "cell_type": "code",
<<<<<<< HEAD
   "execution_count": 35,
   "metadata": {},
   "outputs": [
    {
     "name": "stdout",
     "output_type": "stream",
     "text": [
      "30\n"
     ]
    },
    {
     "data": {
      "text/plain": [
       "<Axes: ylabel='Count'>"
      ]
     },
     "execution_count": 35,
     "metadata": {},
     "output_type": "execute_result"
    },
    {
     "data": {
      "image/png": "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",
      "text/plain": [
       "<Figure size 1200x600 with 1 Axes>"
      ]
     },
     "metadata": {},
     "output_type": "display_data"
    }
   ],
   "source": [
    "\n",
    "link = \"/Users/ioanna/Downloads/unzipped.ccs.fastq\"\n",
    "\n",
    "# parse the fastq file\n",
    "records = SeqIO.parse(link, \"fastq\")\n",
    "\n",
    "# plot the distribution of the read lengths\n",
    "lengths = []\n",
    "for record in records:\n",
    "    lengths.append(len(record.seq))\n",
    "print(len(lengths))\n",
    "sns.set()\n",
    "plt.figure(figsize=(12, 6))\n",
    "sns.histplot(lengths, bins=100)\n",
    "\n"
   ]
  },
  {
   "cell_type": "code",
   "execution_count": 2,
   "metadata": {},
   "outputs": [
    {
     "data": {
      "text/plain": [
       "Text(0.5, 1.0, 'trimmed_01_100.fastq')"
      ]
     },
     "execution_count": 2,
     "metadata": {},
     "output_type": "execute_result"
    },
    {
     "data": {
      "image/png": "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",
      "text/plain": [
       "<Figure size 1200x600 with 1 Axes>"
      ]
     },
     "metadata": {},
     "output_type": "display_data"
    }
   ],
   "source": [
    "def kmer_count_vector(seq_path, k=4):\n",
    "    \"\"\"Create a kmer count vector for a given sequence\"\"\"\n",
    "    # parse the fastq file\n",
    "    records = SeqIO.parse(seq_path, \"fastq\")\n",
    "    # create a dictionary of kmers and their counts\n",
    "    kmer_dict = {}\n",
    "    for record in records:\n",
    "        for i in range(len(record.seq)-k+1):\n",
    "            kmer = record.seq[i:i+k]\n",
    "            if kmer in kmer_dict:\n",
    "                kmer_dict[kmer] += 1\n",
    "            else:\n",
    "                kmer_dict[kmer] = 1\n",
    "\n",
    "    # create a kmer count vector\n",
    "    # kmer_count_vector = np.zeros(4**k)\n",
    "    # for i, kmer in enumerate(kmer_dict.keys()):\n",
    "    #     kmer_count_vector[i] = kmer_dict[kmer]\n",
    "    return kmer_dict    \n",
    "\n",
    "seq1 = \"/Users/ioanna/Projects/VQA/src/vqa/data/data/real_data/trimmed_01_100.fastq\"\n",
    "seq2 = \"/Users/ioanna/Projects/VQA/src/vqa/data/data/real_data/trimmed_02_100.fastq\"\n",
    "seq3 = \"/Users/ioanna/Projects/VQA/src/vqa/data/data/real_data/trimmed_08_0.fastq\"\n",
    "seq4 = \"/Users/ioanna/Projects/VQA/src/vqa/data/data/real_data/trimmed_09_0.fastq\"\n",
    "\n",
    "kmer_dict_1 = kmer_count_vector(seq1)\n",
    "kmer_dict_2 = kmer_count_vector(seq2)\n",
    "kmer_dict_3 = kmer_count_vector(seq3)\n",
    "kmer_dict_4 = kmer_count_vector(seq4)\n",
    "\n",
    "# create all possible 4-kmers in a dictionary initialized with 0\n",
    "all_kmers = {}\n",
    "vocab = [\"A\", \"C\", \"G\", \"T\"]\n",
    "\n",
    "\n",
    "# creaet all possible 4-kmers\n",
    "for i in range(4**4):\n",
    "    kmer = \"\"\n",
    "    for j in range(4):\n",
    "        kmer += vocab[i % 4]\n",
    "        i = i // 4\n",
    "    all_kmers[kmer] = 0     \n",
    "\n",
    "# plot the distribution of the kmer counts\n",
    "sns.set()\n",
    "plt.figure(figsize=(12, 6))\n",
    "sns.histplot(kmer_dict_1.values(), bins=100)\n",
    "plt.xlabel(\"kmer count\")\n",
    "plt.ylabel(\"frequency\")\n",
    "plt.title(\"trimmed_01_100.fastq\")\n",
    "\n"
   ]
  },
  {
   "cell_type": "code",
   "execution_count": 9,
   "metadata": {},
   "outputs": [
    {
     "data": {
      "text/plain": [
       "Text(0, 0.5, 'frequency')"
      ]
     },
     "execution_count": 9,
     "metadata": {},
     "output_type": "execute_result"
    },
    {
     "data": {
      "image/png": "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",
      "text/plain": [
       "<Figure size 1200x600 with 1 Axes>"
      ]
     },
     "metadata": {},
     "output_type": "display_data"
    }
   ],
   "source": [
    "sns.set()\n",
    "plt.figure(figsize=(12, 6))\n",
    "sns.histplot(kmer_dict_4.values(), bins=100, color=\"red\")\n",
    "# sns.histplot(kmer_dict_3.values(), bins=100, color=\"green\")\n",
    "plt.xlabel(\"kmer count\")\n",
    "plt.ylabel(\"frequency\")"
   ]
  },
  {
   "cell_type": "code",
   "execution_count": 5,
   "metadata": {},
   "outputs": [
    {
     "ename": "FileNotFoundError",
     "evalue": "[Errno 2] No such file or directory: 'src/vqa/data/data/reference_set.json'",
     "output_type": "error",
     "traceback": [
      "\u001b[0;31m---------------------------------------------------------------------------\u001b[0m",
      "\u001b[0;31mFileNotFoundError\u001b[0m                         Traceback (most recent call last)",
      "Cell \u001b[0;32mIn[5], line 4\u001b[0m\n\u001b[1;32m      1\u001b[0m data \u001b[38;5;241m=\u001b[39m \u001b[38;5;124m\"\u001b[39m\u001b[38;5;124msrc/vqa/data/data/reference_set.json\u001b[39m\u001b[38;5;124m\"\u001b[39m\n\u001b[1;32m      3\u001b[0m \u001b[38;5;28;01mimport\u001b[39;00m \u001b[38;5;21;01mjson\u001b[39;00m\n\u001b[0;32m----> 4\u001b[0m \u001b[38;5;28;01mwith\u001b[39;00m \u001b[38;5;28;43mopen\u001b[39;49m\u001b[43m(\u001b[49m\u001b[43mdata\u001b[49m\u001b[43m)\u001b[49m \u001b[38;5;28;01mas\u001b[39;00m f:\n\u001b[1;32m      5\u001b[0m     data \u001b[38;5;241m=\u001b[39m json\u001b[38;5;241m.\u001b[39mload(f)\n\u001b[1;32m      6\u001b[0m positives \u001b[38;5;241m=\u001b[39m \u001b[38;5;241m0\u001b[39m\n",
      "File \u001b[0;32m~/Projects/VQA/vqa_env/lib/python3.9/site-packages/IPython/core/interactiveshell.py:308\u001b[0m, in \u001b[0;36m_modified_open\u001b[0;34m(file, *args, **kwargs)\u001b[0m\n\u001b[1;32m    301\u001b[0m \u001b[38;5;28;01mif\u001b[39;00m file \u001b[38;5;129;01min\u001b[39;00m {\u001b[38;5;241m0\u001b[39m, \u001b[38;5;241m1\u001b[39m, \u001b[38;5;241m2\u001b[39m}:\n\u001b[1;32m    302\u001b[0m     \u001b[38;5;28;01mraise\u001b[39;00m \u001b[38;5;167;01mValueError\u001b[39;00m(\n\u001b[1;32m    303\u001b[0m         \u001b[38;5;124mf\u001b[39m\u001b[38;5;124m\"\u001b[39m\u001b[38;5;124mIPython won\u001b[39m\u001b[38;5;124m'\u001b[39m\u001b[38;5;124mt let you open fd=\u001b[39m\u001b[38;5;132;01m{\u001b[39;00mfile\u001b[38;5;132;01m}\u001b[39;00m\u001b[38;5;124m by default \u001b[39m\u001b[38;5;124m\"\u001b[39m\n\u001b[1;32m    304\u001b[0m         \u001b[38;5;124m\"\u001b[39m\u001b[38;5;124mas it is likely to crash IPython. If you know what you are doing, \u001b[39m\u001b[38;5;124m\"\u001b[39m\n\u001b[1;32m    305\u001b[0m         \u001b[38;5;124m\"\u001b[39m\u001b[38;5;124myou can use builtins\u001b[39m\u001b[38;5;124m'\u001b[39m\u001b[38;5;124m open.\u001b[39m\u001b[38;5;124m\"\u001b[39m\n\u001b[1;32m    306\u001b[0m     )\n\u001b[0;32m--> 308\u001b[0m \u001b[38;5;28;01mreturn\u001b[39;00m \u001b[43mio_open\u001b[49m\u001b[43m(\u001b[49m\u001b[43mfile\u001b[49m\u001b[43m,\u001b[49m\u001b[43m \u001b[49m\u001b[38;5;241;43m*\u001b[39;49m\u001b[43margs\u001b[49m\u001b[43m,\u001b[49m\u001b[43m \u001b[49m\u001b[38;5;241;43m*\u001b[39;49m\u001b[38;5;241;43m*\u001b[39;49m\u001b[43mkwargs\u001b[49m\u001b[43m)\u001b[49m\n",
      "\u001b[0;31mFileNotFoundError\u001b[0m: [Errno 2] No such file or directory: 'src/vqa/data/data/reference_set.json'"
     ]
    }
   ],
   "source": [
    "data = \"data/data/reference_set.json\"\n",
    "\n",
    "import json\n",
    "with open(data) as f:\n",
    "    data = json.load(f)\n",
    "positives = 0\n",
    "negative = 0\n",
    "# iterate over the dictionary and from the values check positive and negative samples\n",
    "for key in data.keys():\n",
    "    if data[key][\"label\"] == \"positive\":\n",
    "        positives += 1\n",
    "    else:\n",
    "        negative += 1\n",
    "\n",
    "print(positives, negative)"
=======
   "execution_count": null,
   "metadata": {},
   "outputs": [],
   "source": [
    "import os\n",
    "\n",
    "os.path.isfile( '/tudelft.net/staff-umbrella/ViralQuasispecies/inika/Read_simulators/data/dataset_100000/reads/EPI_ISL_10345990_S121.fasta'\n",
    ")"
>>>>>>> 7a8d48b8708910afbc7278a5dbc8e2105d2be16d
   ]
  }
 ],
 "metadata": {
  "kernelspec": {
   "display_name": ".venv",
   "language": "python",
   "name": "python3"
  },
  "language_info": {
   "codemirror_mode": {
    "name": "ipython",
    "version": 3
   },
   "file_extension": ".py",
   "mimetype": "text/x-python",
   "name": "python",
   "nbconvert_exporter": "python",
   "pygments_lexer": "ipython3",
   "version": "3.9.6"
  }
 },
 "nbformat": 4,
 "nbformat_minor": 2
}
